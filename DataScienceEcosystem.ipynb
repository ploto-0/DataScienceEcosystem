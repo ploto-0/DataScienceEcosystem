{
 "cells": [
  {
   "cell_type": "markdown",
   "id": "3e477106-bb07-496d-a640-d4425734fc59",
   "metadata": {},
   "source": [
    "# Data Science Tools and Ecosystem\n"
   ]
  },
  {
   "cell_type": "markdown",
   "id": "b9ab188e-333b-4b17-bd4a-9ebd0bd4a0f6",
   "metadata": {},
   "source": [
    "In this notebook, Data Science Tools and Ecosystem are summarize"
   ]
  },
  {
   "cell_type": "markdown",
   "id": "a34df89d-f683-4655-8206-9607596cf39c",
   "metadata": {},
   "source": [
    "**Objectives:**\n",
    "\n",
    "- List popular languages for Data Science.\n",
    "- Create Markdown cells with headings and lists.\n",
    "- Execute code cells to perform arithmetic operations.\n",
    "- Use comments in code cells for explanations.\n",
    "- Save and organize notebook files.\n"
   ]
  },
  {
   "cell_type": "markdown",
   "id": "4a325f69-edcf-45c1-87a6-bb48de8c4ac9",
   "metadata": {},
   "source": [
    "Some of the popular languages that Data Scientists use are:\n",
    "\n",
    "1. Python\n",
    "2. R\n",
    "3. SQL\n"
   ]
  },
  {
   "cell_type": "markdown",
   "id": "2e742929-6094-493e-8915-84aa1b69dd17",
   "metadata": {},
   "source": [
    "Some of the commonly used libraries used by Data Scientists include:\n",
    "\n",
    "1. NumPy\n",
    "2. pandas\n",
    "3. scikit-learn\n",
    "4. Matplotlib\n"
   ]
  },
  {
   "cell_type": "markdown",
   "id": "bfe239ec-abea-419d-ad41-c06bc728f320",
   "metadata": {},
   "source": [
    "| Data Science Tools    |\n",
    "|-----------------------|\n",
    "| Development Environment 1 |\n",
    "| Development Environment 2 |\n",
    "| Development Environment 3 |\n"
   ]
  },
  {
   "cell_type": "markdown",
   "id": "d6d48f3b-8b11-4a06-acb1-5d7f42517d6b",
   "metadata": {},
   "source": [
    "### Below are a few examples of evaluating arithmetic expressions in Python.\n"
   ]
  },
  {
   "cell_type": "code",
   "execution_count": 3,
   "id": "901e50b8-8be3-4cc8-8d74-695fdacd14d3",
   "metadata": {},
   "outputs": [
    {
     "name": "stdout",
     "output_type": "stream",
     "text": [
      "17\n"
     ]
    }
   ],
   "source": [
    "# This is a simple arithmetic expression to multiply then add integers.\n",
    "result = (3*4)+5\n",
    "print (result)"
   ]
  },
  {
   "cell_type": "code",
   "execution_count": 6,
   "id": "19185299-6712-4f8d-a063-2ea203756340",
   "metadata": {},
   "outputs": [
    {
     "name": "stdout",
     "output_type": "stream",
     "text": [
      "3.3333333333333335\n"
     ]
    }
   ],
   "source": [
    "# This will convert 200 minutes to hours by dividing by 60.\n",
    "minutes = 200\n",
    "hours = minutes / 60\n",
    "print(hours)\n",
    "\n"
   ]
  },
  {
   "cell_type": "markdown",
   "id": "d56c1223-9731-4a86-b82b-9d6014716dc4",
   "metadata": {},
   "source": [
    "## Author\n",
    "\n",
    "Your Name\n"
   ]
  },
  {
   "cell_type": "code",
   "execution_count": null,
   "id": "5ade8b31-6696-4692-93fe-17048794bce5",
   "metadata": {},
   "outputs": [],
   "source": []
  }
 ],
 "metadata": {
  "kernelspec": {
   "display_name": "Python 3 (ipykernel)",
   "language": "python",
   "name": "python3"
  },
  "language_info": {
   "codemirror_mode": {
    "name": "ipython",
    "version": 3
   },
   "file_extension": ".py",
   "mimetype": "text/x-python",
   "name": "python",
   "nbconvert_exporter": "python",
   "pygments_lexer": "ipython3",
   "version": "3.11.3"
  }
 },
 "nbformat": 4,
 "nbformat_minor": 5
}
